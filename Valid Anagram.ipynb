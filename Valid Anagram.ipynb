{
 "cells": [
  {
   "cell_type": "markdown",
   "metadata": {},
   "source": [
    "Given two strings s and t , write a function to determine if t is an anagram of s."
   ]
  },
  {
   "cell_type": "code",
   "execution_count": 1,
   "metadata": {},
   "outputs": [
    {
     "data": {
      "text/plain": [
       "False"
      ]
     },
     "execution_count": 1,
     "metadata": {},
     "output_type": "execute_result"
    }
   ],
   "source": [
    "def isAnagram(s,t):\n",
    "    s_string = {}\n",
    "    t_string = {}\n",
    "    for item in s:\n",
    "        if item not in s_string:\n",
    "            s_string[item] = 1\n",
    "        else: s_string[item] +=1\n",
    "    for item in t:\n",
    "        if item not in t_string:\n",
    "            t_string[item] = 1\n",
    "        else: t_string[item] +=1\n",
    "\n",
    "    return (s_string==t_string)\n",
    "isAnagram(\"ab\",\"a\")"
   ]
  },
  {
   "cell_type": "code",
   "execution_count": 2,
   "metadata": {},
   "outputs": [
    {
     "data": {
      "text/plain": [
       "False"
      ]
     },
     "execution_count": 2,
     "metadata": {},
     "output_type": "execute_result"
    }
   ],
   "source": [
    "def isAnagram(s,t):\n",
    "    if len(s)!=len(t):\n",
    "        return False\n",
    "    return sorted(s)==sorted(t)\n",
    "isAnagram(\"ab\",\"a\")"
   ]
  }
 ],
 "metadata": {
  "kernelspec": {
   "display_name": "Python 3",
   "language": "python",
   "name": "python3"
  },
  "language_info": {
   "codemirror_mode": {
    "name": "ipython",
    "version": 3
   },
   "file_extension": ".py",
   "mimetype": "text/x-python",
   "name": "python",
   "nbconvert_exporter": "python",
   "pygments_lexer": "ipython3",
   "version": "3.6.8"
  }
 },
 "nbformat": 4,
 "nbformat_minor": 2
}
