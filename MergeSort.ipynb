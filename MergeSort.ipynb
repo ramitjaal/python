{
 "cells": [
  {
   "cell_type": "code",
   "execution_count": 1,
   "metadata": {},
   "outputs": [
    {
     "data": {
      "text/plain": [
       "[1, 2, 3, 4, 5, 6, 7, 8]"
      ]
     },
     "execution_count": 1,
     "metadata": {},
     "output_type": "execute_result"
    }
   ],
   "source": [
    "nums = [1,5,3,2,8,7,6,4]\n",
    "def merge_sort(nums):\n",
    "    # bottom cases: empty or list of a single element.\n",
    "    if len(nums) <= 1:\n",
    "        return nums\n",
    "\n",
    "    pivot = int(len(nums) / 2)\n",
    "    left_list = merge_sort(nums[0:pivot])\n",
    "    right_list = merge_sort(nums[pivot:])\n",
    "    return merge(left_list, right_list)\n",
    "\n",
    "\n",
    "def merge(left_list, right_list):\n",
    "    left_cursor = right_cursor = 0\n",
    "    ret = []\n",
    "    while left_cursor < len(left_list) and right_cursor < len(right_list):\n",
    "        if left_list[left_cursor] < right_list[right_cursor]:\n",
    "            ret.append(left_list[left_cursor])\n",
    "            left_cursor += 1\n",
    "        else:\n",
    "            ret.append(right_list[right_cursor])\n",
    "            right_cursor += 1\n",
    "    \n",
    "    # append what is remained in either of the lists\n",
    "    ret.extend(left_list[left_cursor:])\n",
    "    ret.extend(right_list[right_cursor:])\n",
    "    \n",
    "    return ret\n",
    "merge_sort(nums)"
   ]
  }
 ],
 "metadata": {
  "kernelspec": {
   "display_name": "Python 3",
   "language": "python",
   "name": "python3"
  },
  "language_info": {
   "codemirror_mode": {
    "name": "ipython",
    "version": 3
   },
   "file_extension": ".py",
   "mimetype": "text/x-python",
   "name": "python",
   "nbconvert_exporter": "python",
   "pygments_lexer": "ipython3",
   "version": "3.6.8"
  }
 },
 "nbformat": 4,
 "nbformat_minor": 2
}
