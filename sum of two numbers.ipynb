{
 "cells": [
  {
   "cell_type": "markdown",
   "metadata": {},
   "source": [
    "Calculate the sum of two integers a and b, but you are not allowed to use the operator + and -."
   ]
  },
  {
   "cell_type": "code",
   "execution_count": 1,
   "metadata": {},
   "outputs": [
    {
     "data": {
      "text/plain": [
       "5"
      ]
     },
     "execution_count": 1,
     "metadata": {},
     "output_type": "execute_result"
    }
   ],
   "source": [
    "def getSum(a=2, b=3):\n",
    "    list1 = [a,b]\n",
    "    return sum(list1)\n",
    "getSum()"
   ]
  },
  {
   "cell_type": "code",
   "execution_count": 2,
   "metadata": {},
   "outputs": [
    {
     "data": {
      "text/plain": [
       "5"
      ]
     },
     "execution_count": 2,
     "metadata": {},
     "output_type": "execute_result"
    }
   ],
   "source": [
    "def getSum(a=2, b=3):\n",
    "    \"\"\"\n",
    "    :type a: int\n",
    "    :type b: int\n",
    "    :rtype: int\n",
    "    \"\"\"\n",
    "    # 32 bits integer max\n",
    "    MAX = 0x7FFFFFFF\n",
    "    # 32 bits interger min\n",
    "    MIN = 0x80000000\n",
    "    # mask to get last 32 bits\n",
    "    mask = 0xFFFFFFFF\n",
    "    while b != 0:\n",
    "        # ^ get different bits and & gets double 1s, << moves carry\n",
    "        a, b = (a ^ b) & mask, ((a & b) << 1) & mask\n",
    "    # if a is negative, get a's 32 bits complement positive first\n",
    "    # then get 32-bit positive's Python complement negative\n",
    "    return a if a <= MAX else ~(a ^ mask)\n",
    "getSum()"
   ]
  }
 ],
 "metadata": {
  "kernelspec": {
   "display_name": "Python 3",
   "language": "python",
   "name": "python3"
  },
  "language_info": {
   "codemirror_mode": {
    "name": "ipython",
    "version": 3
   },
   "file_extension": ".py",
   "mimetype": "text/x-python",
   "name": "python",
   "nbconvert_exporter": "python",
   "pygments_lexer": "ipython3",
   "version": "3.6.8"
  }
 },
 "nbformat": 4,
 "nbformat_minor": 2
}
