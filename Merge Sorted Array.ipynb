{
 "cells": [
  {
   "cell_type": "markdown",
   "metadata": {},
   "source": [
    "Given two sorted integer arrays nums1 and nums2, merge nums2 into nums1 as one sorted array."
   ]
  },
  {
   "cell_type": "code",
   "execution_count": 1,
   "metadata": {},
   "outputs": [
    {
     "data": {
      "text/plain": [
       "[1, 2, 2, 3, 5, 6]"
      ]
     },
     "execution_count": 1,
     "metadata": {},
     "output_type": "execute_result"
    }
   ],
   "source": [
    "nums1 = [1,2,3,0,0,0]\n",
    "nums2 = [2,5,6]\n",
    "m = 3\n",
    "n = 3\n",
    "def merge(nums1,m,nums2,n):\n",
    "    return sorted(nums1[:m]+nums2[:n])\n",
    "merge(nums1,m,nums2,n)"
   ]
  },
  {
   "cell_type": "code",
   "execution_count": 2,
   "metadata": {},
   "outputs": [
    {
     "data": {
      "text/plain": [
       "[1, 2, 2, 3, 5, 6]"
      ]
     },
     "execution_count": 2,
     "metadata": {},
     "output_type": "execute_result"
    }
   ],
   "source": [
    "#Merge and sort\n",
    "nums1 = [1,2,3,0,0,0]\n",
    "nums2 = [2,5,6]\n",
    "m = 3\n",
    "n = 3\n",
    "def merge(nums1,m,nums2,n):\n",
    "    nums1_copy = nums1[:m] \n",
    "    nums1[:] = []\n",
    "\n",
    "    # Two get pointers for nums1_copy and nums2.\n",
    "    p1 = 0 \n",
    "    p2 = 0\n",
    "\n",
    "    # Compare elements from nums1_copy and nums2\n",
    "    # and add the smallest one into nums1.\n",
    "    while p1 < m and p2 < n: \n",
    "        if nums1_copy[p1] < nums2[p2]: \n",
    "            nums1.append(nums1_copy[p1])\n",
    "            p1 += 1\n",
    "        else:\n",
    "            nums1.append(nums2[p2])\n",
    "            p2 += 1\n",
    "\n",
    "    # if there are still elements to add\n",
    "    if p1 < m: \n",
    "        nums1[p1 + p2:] = nums1_copy[p1:]\n",
    "    if p2 < n:\n",
    "        nums1[p1 + p2:] = nums2[p2:]\n",
    "    return nums1\n",
    "merge(nums1,m,nums2,n)"
   ]
  }
 ],
 "metadata": {
  "kernelspec": {
   "display_name": "Python 3",
   "language": "python",
   "name": "python3"
  },
  "language_info": {
   "codemirror_mode": {
    "name": "ipython",
    "version": 3
   },
   "file_extension": ".py",
   "mimetype": "text/x-python",
   "name": "python",
   "nbconvert_exporter": "python",
   "pygments_lexer": "ipython3",
   "version": "3.6.8"
  }
 },
 "nbformat": 4,
 "nbformat_minor": 2
}
