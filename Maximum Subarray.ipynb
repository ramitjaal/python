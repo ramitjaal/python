{
 "cells": [
  {
   "cell_type": "markdown",
   "metadata": {},
   "source": [
    "Given an integer array nums, find the contiguous subarray \n",
    "(containing at least one number) which has the largest sum and return \n",
    "its sum."
   ]
  },
  {
   "cell_type": "code",
   "execution_count": 1,
   "metadata": {},
   "outputs": [
    {
     "data": {
      "text/plain": [
       "6"
      ]
     },
     "execution_count": 1,
     "metadata": {},
     "output_type": "execute_result"
    }
   ],
   "source": [
    "# Divide and Rule\n",
    "nums = [-2,1,-3,4,-1,2,1,-5,4]\n",
    "def Cross_sum(nums, left, right, p): \n",
    "        if left == right:\n",
    "            return nums[left]\n",
    "\n",
    "        left_subsum = float('-inf')\n",
    "        curr_sum = 0\n",
    "        for i in range(p, left - 1, -1):\n",
    "            curr_sum += nums[i]\n",
    "            left_subsum = max(left_subsum, curr_sum)\n",
    "\n",
    "        right_subsum = float('-inf')\n",
    "        curr_sum = 0\n",
    "        for i in range(p + 1, right + 1):\n",
    "            curr_sum += nums[i]\n",
    "            right_subsum = max(right_subsum, curr_sum)\n",
    "\n",
    "        return left_subsum + right_subsum   \n",
    "\n",
    "def helper(nums, left, right): \n",
    "    if left == right:\n",
    "        return nums[left]\n",
    "\n",
    "    p = (left + right) // 2\n",
    "\n",
    "    left_sum = helper(nums, left, p)\n",
    "    right_sum = helper(nums, p + 1, right)\n",
    "    cross_sum = Cross_sum(nums, left, right, p)\n",
    "\n",
    "    return max(left_sum, right_sum, cross_sum)\n",
    "\n",
    "def maxSubArray(nums):\n",
    "    return helper(nums, 0, len(nums) - 1)\n",
    "    \n",
    "maxSubArray(nums)\n",
    "    "
   ]
  },
  {
   "cell_type": "code",
   "execution_count": 2,
   "metadata": {},
   "outputs": [
    {
     "data": {
      "text/plain": [
       "6"
      ]
     },
     "execution_count": 2,
     "metadata": {},
     "output_type": "execute_result"
    }
   ],
   "source": [
    "# Greedy algorithm\n",
    "def maxSubArray(nums):\n",
    "    n = len(nums)\n",
    "    curr_sum = max_sum = nums[0]\n",
    "\n",
    "    for i in range(1, n):\n",
    "        curr_sum = max(nums[i], curr_sum + nums[i])\n",
    "        max_sum = max(max_sum, curr_sum)\n",
    "\n",
    "    return max_sum\n",
    "maxSubArray(nums)"
   ]
  },
  {
   "cell_type": "code",
   "execution_count": 3,
   "metadata": {},
   "outputs": [
    {
     "data": {
      "text/plain": [
       "6"
      ]
     },
     "execution_count": 3,
     "metadata": {},
     "output_type": "execute_result"
    }
   ],
   "source": [
    "# Kadane's Algorithm\n",
    "def maxSubArray(nums):\n",
    "    n = len(nums)\n",
    "    max_sum = nums[0]\n",
    "    for i in range(1,n):\n",
    "        if nums[i-1]>0:\n",
    "            nums[i] += nums[i-1]\n",
    "        max_sum = max(max_sum, nums[i])\n",
    "    return max_sum\n",
    "maxSubArray(nums)"
   ]
  }
 ],
 "metadata": {
  "kernelspec": {
   "display_name": "Python 3",
   "language": "python",
   "name": "python3"
  },
  "language_info": {
   "codemirror_mode": {
    "name": "ipython",
    "version": 3
   },
   "file_extension": ".py",
   "mimetype": "text/x-python",
   "name": "python",
   "nbconvert_exporter": "python",
   "pygments_lexer": "ipython3",
   "version": "3.6.8"
  }
 },
 "nbformat": 4,
 "nbformat_minor": 2
}
