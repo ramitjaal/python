{
 "cells": [
  {
   "cell_type": "code",
   "execution_count": 1,
   "metadata": {},
   "outputs": [
    {
     "data": {
      "text/plain": [
       "1"
      ]
     },
     "execution_count": 1,
     "metadata": {},
     "output_type": "execute_result"
    }
   ],
   "source": [
    "import heapq\n",
    "def lastStoneWeight(stones=[2,7,4,1,8,1]):        \n",
    "    q = []\n",
    "\n",
    "    for stone in stones:\n",
    "        heapq.heappush(q,-stone)\n",
    "\n",
    "    while len(q) >=2:\n",
    "        y = -heapq.heappop(q)\n",
    "        x = -heapq.heappop(q)\n",
    "\n",
    "        if y != x:\n",
    "            n = y-x\n",
    "            heapq.heappush(q,-n)\n",
    "\n",
    "    if len(q) > 0:\n",
    "        return -heapq.heappop(q)\n",
    "    return 0\n",
    "lastStoneWeight()"
   ]
  },
  {
   "cell_type": "code",
   "execution_count": 2,
   "metadata": {},
   "outputs": [
    {
     "data": {
      "text/plain": [
       "1"
      ]
     },
     "execution_count": 2,
     "metadata": {},
     "output_type": "execute_result"
    }
   ],
   "source": [
    "def lastStoneWeight(stones=[2,7,4,1,8,1]):        \n",
    "    while (len(stones)>1):\n",
    "        stones.sort()\n",
    "        stones.append(stones.pop()-stones.pop())\n",
    "    return stones[0]\n",
    "lastStoneWeight()"
   ]
  }
 ],
 "metadata": {
  "kernelspec": {
   "display_name": "Python 3",
   "language": "python",
   "name": "python3"
  },
  "language_info": {
   "codemirror_mode": {
    "name": "ipython",
    "version": 3
   },
   "file_extension": ".py",
   "mimetype": "text/x-python",
   "name": "python",
   "nbconvert_exporter": "python",
   "pygments_lexer": "ipython3",
   "version": "3.7.7"
  }
 },
 "nbformat": 4,
 "nbformat_minor": 2
}
