{
 "cells": [
  {
   "cell_type": "markdown",
   "metadata": {},
   "source": [
    "A website domain like \"discuss.leetcode.com\" consists of various subdomains. At the top level, we have \"com\", at the next level, we have \"leetcode.com\", and at the lowest level, \"discuss.leetcode.com\". When we visit a domain like \"discuss.leetcode.com\", we will also visit the parent domains \"leetcode.com\" and \"com\" implicitly.\n",
    "\n",
    "Now, call a \"count-paired domain\" to be a count (representing the number of visits this domain received), followed by a space, followed by the address. An example of a count-paired domain might be \"9001 discuss.leetcode.com\".\n",
    "\n",
    "We are given a list cpdomains of count-paired domains. We would like a list of count-paired domains, (in the same format as the input, and in any order), that explicitly counts the number of visits to each subdomain."
   ]
  },
  {
   "cell_type": "code",
   "execution_count": 1,
   "metadata": {},
   "outputs": [
    {
     "data": {
      "text/plain": [
       "['9001 discuss.leetcode.com', '9001 leetcode.com', '9001 com']"
      ]
     },
     "execution_count": 1,
     "metadata": {},
     "output_type": "execute_result"
    }
   ],
   "source": [
    "import collections\n",
    "cpdomains = [\"9001 discuss.leetcode.com\"]\n",
    "def subdomainVisits(cpdomains):\n",
    "    ans = collections.Counter()\n",
    "    for domain in cpdomains:\n",
    "        count, domain = domain.split()\n",
    "        count = int(count)\n",
    "        frags = domain.split('.')\n",
    "        for i in range(len(frags)):\n",
    "            ans[\".\".join(frags[i:])] += count\n",
    "\n",
    "    return [\"{} {}\".format(ct, dom) for dom, ct in ans.items()]\n",
    "subdomainVisits(cpdomains)"
   ]
  },
  {
   "cell_type": "code",
   "execution_count": 2,
   "metadata": {},
   "outputs": [
    {
     "data": {
      "text/plain": [
       "['9001 discuss.leetcode.com', '9001 leetcode.com', '9001 com']"
      ]
     },
     "execution_count": 2,
     "metadata": {},
     "output_type": "execute_result"
    }
   ],
   "source": [
    "def subdomainVisits(cpdomains):\n",
    "    c = collections.Counter()\n",
    "    for cd in cpdomains:\n",
    "        n, d = cd.split()\n",
    "        c[d] += int(n)\n",
    "        for i in range(len(d)):\n",
    "            if d[i] == '.': c[d[i + 1:]] += int(n)\n",
    "    return [\"%d %s\" % (c[k], k) for k in c]\n",
    "subdomainVisits(cpdomains)"
   ]
  }
 ],
 "metadata": {
  "kernelspec": {
   "display_name": "Python 3",
   "language": "python",
   "name": "python3"
  },
  "language_info": {
   "codemirror_mode": {
    "name": "ipython",
    "version": 3
   },
   "file_extension": ".py",
   "mimetype": "text/x-python",
   "name": "python",
   "nbconvert_exporter": "python",
   "pygments_lexer": "ipython3",
   "version": "3.6.8"
  }
 },
 "nbformat": 4,
 "nbformat_minor": 2
}
