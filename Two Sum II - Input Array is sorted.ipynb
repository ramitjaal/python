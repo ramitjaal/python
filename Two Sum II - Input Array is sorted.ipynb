{
 "cells": [
  {
   "cell_type": "markdown",
   "metadata": {},
   "source": [
    "Given an array of integers that is already sorted in ascending order, find two numbers such that they add up to a specific target number."
   ]
  },
  {
   "cell_type": "code",
   "execution_count": 1,
   "metadata": {},
   "outputs": [],
   "source": [
    "numbers = [2,7,11,15]\n",
    "target = 9\n",
    "def twoSum(numbers, target):\n",
    "    h = {}\n",
    "    for index,value in enumerate(numbers):\n",
    "        remaining = target - value\n",
    "        if remaining not in h:\n",
    "            h[value] = index\n",
    "        else:\n",
    "            return(h[remaining]+1,index+1)\n",
    "twoSum(numbers,target)"
   ]
  },
  {
   "cell_type": "code",
   "execution_count": null,
   "metadata": {},
   "outputs": [],
   "source": []
  }
 ],
 "metadata": {
  "kernelspec": {
   "display_name": "Python 3",
   "language": "python",
   "name": "python3"
  },
  "language_info": {
   "codemirror_mode": {
    "name": "ipython",
    "version": 3
   },
   "file_extension": ".py",
   "mimetype": "text/x-python",
   "name": "python",
   "nbconvert_exporter": "python",
   "pygments_lexer": "ipython3",
   "version": "3.6.8"
  }
 },
 "nbformat": 4,
 "nbformat_minor": 2
}
