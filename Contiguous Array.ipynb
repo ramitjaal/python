{
 "cells": [
  {
   "cell_type": "code",
   "execution_count": 1,
   "metadata": {},
   "outputs": [
    {
     "data": {
      "text/plain": [
       "4"
      ]
     },
     "execution_count": 1,
     "metadata": {},
     "output_type": "execute_result"
    }
   ],
   "source": [
    "def findMaxLength(nums=[0,1,1,0,0,0]):\n",
    "    count = 0\n",
    "    max_length=0\n",
    "    table = {0: 0}\n",
    "    for index, num in enumerate(nums, 1):\n",
    "        if num == 0:\n",
    "            count -= 1\n",
    "        else:\n",
    "            count += 1\n",
    "\n",
    "        if count in table:\n",
    "            max_length = max(max_length, index - table[count])\n",
    "        else:\n",
    "            table[count] = index\n",
    "\n",
    "    return max_length\n",
    "findMaxLength()"
   ]
  }
 ],
 "metadata": {
  "kernelspec": {
   "display_name": "Python 3",
   "language": "python",
   "name": "python3"
  },
  "language_info": {
   "codemirror_mode": {
    "name": "ipython",
    "version": 3
   },
   "file_extension": ".py",
   "mimetype": "text/x-python",
   "name": "python",
   "nbconvert_exporter": "python",
   "pygments_lexer": "ipython3",
   "version": "3.7.7"
  }
 },
 "nbformat": 4,
 "nbformat_minor": 2
}
