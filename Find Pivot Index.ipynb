{
 "cells": [
  {
   "cell_type": "markdown",
   "metadata": {},
   "source": [
    "Given an array of integers nums, write a method that returns the \"pivot\" index of this array.\n",
    "\n",
    "We define the pivot index as the index where the sum of the numbers to the left of the index is equal to the sum of the numbers to the right of the index.\n",
    "\n",
    "If no such index exists, we should return -1. If there are multiple pivot indexes, you should return the left-most pivot index."
   ]
  },
  {
   "cell_type": "code",
   "execution_count": 1,
   "metadata": {},
   "outputs": [
    {
     "data": {
      "text/plain": [
       "3"
      ]
     },
     "execution_count": 1,
     "metadata": {},
     "output_type": "execute_result"
    }
   ],
   "source": [
    "nums = [1,7,3,6,5,6]\n",
    "def pivotIndex(nums):\n",
    "    s = sum(nums)\n",
    "    leftsum = 0\n",
    "    for i,x in enumerate(nums):\n",
    "        if leftsum == (s - leftsum - x):\n",
    "            return i\n",
    "        leftsum+=x\n",
    "    return -1\n",
    "pivotIndex(nums)"
   ]
  }
 ],
 "metadata": {
  "kernelspec": {
   "display_name": "Python 3",
   "language": "python",
   "name": "python3"
  },
  "language_info": {
   "codemirror_mode": {
    "name": "ipython",
    "version": 3
   },
   "file_extension": ".py",
   "mimetype": "text/x-python",
   "name": "python",
   "nbconvert_exporter": "python",
   "pygments_lexer": "ipython3",
   "version": "3.6.8"
  }
 },
 "nbformat": 4,
 "nbformat_minor": 2
}
