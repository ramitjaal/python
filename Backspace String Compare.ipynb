{
 "cells": [
  {
   "cell_type": "markdown",
   "metadata": {},
   "source": [
    "Given two strings S and T, return if they are equal when both are typed into empty text editors. # means a backspace character."
   ]
  },
  {
   "cell_type": "code",
   "execution_count": 1,
   "metadata": {},
   "outputs": [
    {
     "data": {
      "text/plain": [
       "True"
      ]
     },
     "execution_count": 1,
     "metadata": {},
     "output_type": "execute_result"
    }
   ],
   "source": [
    "def backspaceCompare(S=\"a##c\",T=\"#a#c\"):\n",
    "    S_pointer = len(S)-1\n",
    "    T_pointer = len(T)-1\n",
    "\n",
    "    S_skips = 0\n",
    "    T_skips = 0\n",
    "\n",
    "    while (S_pointer >= 0 or T_pointer >= 0):\n",
    "\n",
    "        while (S_pointer>=0):\n",
    "            if S[S_pointer]=='#':\n",
    "                S_skips += 1\n",
    "                S_pointer -= 1\n",
    "            else:\n",
    "                if (S_skips > 0):\n",
    "                    S_pointer -= 1\n",
    "                    S_skips -= 1\n",
    "                else:\n",
    "                    break\n",
    "\n",
    "        while (T_pointer>=0):\n",
    "            if T[T_pointer]=='#':\n",
    "                T_skips += 1\n",
    "                T_pointer -= 1\n",
    "            else:\n",
    "                if (T_skips > 0):\n",
    "                    T_pointer -= 1\n",
    "                    T_skips -= 1\n",
    "                else:\n",
    "                    break\n",
    "\n",
    "        if (S_pointer >= 0 and T_pointer >= 0 and S[S_pointer]!=T[T_pointer]):\n",
    "            return False\n",
    "        if (S_pointer >= 0) != (T_pointer >= 0):\n",
    "            return False\n",
    "\n",
    "        S_pointer -= 1\n",
    "        T_pointer -= 1\n",
    "\n",
    "    return True\n",
    "backspaceCompare()"
   ]
  },
  {
   "cell_type": "code",
   "execution_count": 2,
   "metadata": {},
   "outputs": [
    {
     "data": {
      "text/plain": [
       "True"
      ]
     },
     "execution_count": 2,
     "metadata": {},
     "output_type": "execute_result"
    }
   ],
   "source": [
    "def backspaceCompare(S=\"a##c\", T=\"#a#c\"):\n",
    "    def build(S):\n",
    "        ans = []\n",
    "        for c in S:\n",
    "            if c != '#':\n",
    "                ans.append(c)\n",
    "            elif ans:\n",
    "                ans.pop()\n",
    "        return \"\".join(ans)\n",
    "    return build(S) == build(T)\n",
    "backspaceCompare()"
   ]
  }
 ],
 "metadata": {
  "kernelspec": {
   "display_name": "Python 3",
   "language": "python",
   "name": "python3"
  },
  "language_info": {
   "codemirror_mode": {
    "name": "ipython",
    "version": 3
   },
   "file_extension": ".py",
   "mimetype": "text/x-python",
   "name": "python",
   "nbconvert_exporter": "python",
   "pygments_lexer": "ipython3",
   "version": "3.6.8"
  }
 },
 "nbformat": 4,
 "nbformat_minor": 2
}
