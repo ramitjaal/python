{
 "cells": [
  {
   "cell_type": "markdown",
   "metadata": {},
   "source": [
    "Say you have an array for which the ith element is the price of a given stock on day i."
   ]
  },
  {
   "cell_type": "code",
   "execution_count": 1,
   "metadata": {},
   "outputs": [
    {
     "name": "stdout",
     "output_type": "stream",
     "text": [
      "7 6\n",
      "1 6\n",
      "5 6\n",
      "3 6\n",
      "6 4\n"
     ]
    },
    {
     "data": {
      "text/plain": [
       "5"
      ]
     },
     "execution_count": 1,
     "metadata": {},
     "output_type": "execute_result"
    }
   ],
   "source": [
    "prices = [7,1,5,3,6,4]\n",
    "def maxProfit(prices):\n",
    "    max_profit = 0\n",
    "    for item in range(len(prices)-1):\n",
    "        print(prices[item],max(prices[item+1:]))\n",
    "        profit = max(prices[item+1:]) - prices[item]\n",
    "        max_profit = max(max_profit, profit)\n",
    "    return max_profit\n",
    "maxProfit(prices)"
   ]
  },
  {
   "cell_type": "code",
   "execution_count": 2,
   "metadata": {},
   "outputs": [
    {
     "data": {
      "text/plain": [
       "5"
      ]
     },
     "execution_count": 2,
     "metadata": {},
     "output_type": "execute_result"
    }
   ],
   "source": [
    "def maxProfit(prices):\n",
    "    low = float('inf')\n",
    "    profit = 0\n",
    "    for i in prices:\n",
    "        profit = max(profit, i-low)\n",
    "        low = min(low, i)\n",
    "    return profit\n",
    "maxProfit(prices)"
   ]
  },
  {
   "cell_type": "code",
   "execution_count": 3,
   "metadata": {},
   "outputs": [
    {
     "name": "stdout",
     "output_type": "stream",
     "text": [
      "5\n"
     ]
    }
   ],
   "source": [
    "maxCur = maxSoFar = 0\n",
    "for i in range(1,len(prices)):\n",
    "    maxCur+=prices[i]-prices[i-1]\n",
    "    maxCur = max(0,maxCur)\n",
    "    maxSoFar = max(maxCur, maxSoFar)\n",
    "print(maxSoFar)"
   ]
  }
 ],
 "metadata": {
  "kernelspec": {
   "display_name": "Python 3",
   "language": "python",
   "name": "python3"
  },
  "language_info": {
   "codemirror_mode": {
    "name": "ipython",
    "version": 3
   },
   "file_extension": ".py",
   "mimetype": "text/x-python",
   "name": "python",
   "nbconvert_exporter": "python",
   "pygments_lexer": "ipython3",
   "version": "3.6.8"
  }
 },
 "nbformat": 4,
 "nbformat_minor": 2
}
