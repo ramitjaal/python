{
 "cells": [
  {
   "cell_type": "markdown",
   "metadata": {},
   "source": [
    "Count the number of prime numbers less than a non-negative number, n."
   ]
  },
  {
   "cell_type": "code",
   "execution_count": 16,
   "metadata": {},
   "outputs": [
    {
     "data": {
      "text/plain": [
       "4"
      ]
     },
     "execution_count": 16,
     "metadata": {},
     "output_type": "execute_result"
    }
   ],
   "source": [
    "def countPrimes(n):\n",
    "    if n < 2:\n",
    "        return 0\n",
    "    \n",
    "    strikes = [1]*n\n",
    "    \n",
    "    strikes[0] = strikes[1] = 0\n",
    "    \n",
    "    for i in range(2,int(n**0.5)+1):\n",
    "        if strikes[i] != 0:\n",
    "            strikes[i*i:n:i] = [0] * ((n-1-i*i)//i + 1)\n",
    "    \n",
    "    return sum(strikes)\n",
    "countPrimes(10)"
   ]
  },
  {
   "cell_type": "code",
   "execution_count": 19,
   "metadata": {},
   "outputs": [
    {
     "data": {
      "text/plain": [
       "4"
      ]
     },
     "execution_count": 19,
     "metadata": {},
     "output_type": "execute_result"
    }
   ],
   "source": [
    "def countPrimes(n):\n",
    "    if n < 2:\n",
    "        return 0\n",
    "    strikes = [1]*n\n",
    "    strikes[0] = strikes[1] = 0\n",
    "    \n",
    "    for i in range(2,int(n**0.5)+1):\n",
    "        if strikes[i] != 0:\n",
    "            for j in range(i,(n-1)//i+1):\n",
    "                strikes[i*j] = 0\n",
    "    return sum(strikes)\n",
    "countPrimes(10)"
   ]
  }
 ],
 "metadata": {
  "kernelspec": {
   "display_name": "Python 3",
   "language": "python",
   "name": "python3"
  },
  "language_info": {
   "codemirror_mode": {
    "name": "ipython",
    "version": 3
   },
   "file_extension": ".py",
   "mimetype": "text/x-python",
   "name": "python",
   "nbconvert_exporter": "python",
   "pygments_lexer": "ipython3",
   "version": "3.6.8"
  }
 },
 "nbformat": 4,
 "nbformat_minor": 2
}
