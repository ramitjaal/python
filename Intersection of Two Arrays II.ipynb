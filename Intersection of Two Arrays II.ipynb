{
 "cells": [
  {
   "cell_type": "markdown",
   "metadata": {},
   "source": [
    "Given two arrays, write a function to compute their intersection."
   ]
  },
  {
   "cell_type": "code",
   "execution_count": 1,
   "metadata": {},
   "outputs": [
    {
     "data": {
      "text/plain": [
       "[4, 9]"
      ]
     },
     "execution_count": 1,
     "metadata": {},
     "output_type": "execute_result"
    }
   ],
   "source": [
    "import collections\n",
    "def intersect(nums1 = [4,9,5], nums2 = [9,4,9,8,4]):\n",
    "    a, b = map(collections.Counter, (nums1, nums2))\n",
    "    return list((a & b).elements())\n",
    "intersect()"
   ]
  },
  {
   "cell_type": "code",
   "execution_count": 2,
   "metadata": {},
   "outputs": [
    {
     "data": {
      "text/plain": [
       "[9, 4]"
      ]
     },
     "execution_count": 2,
     "metadata": {},
     "output_type": "execute_result"
    }
   ],
   "source": [
    "def intersect(nums1 = [4,9,5],nums2=[9,4,9,8,4]):\n",
    "    counts = {}\n",
    "    res = []\n",
    "\n",
    "    for num in nums1:\n",
    "#         counts[num] = counts.get(num, 0) + 1\n",
    "        if num not in counts:\n",
    "            counts[num] = 1\n",
    "        else: counts[num] += 1\n",
    "    \n",
    "    for num in nums2:\n",
    "        if num in counts and counts[num] > 0:\n",
    "            res.append(num)\n",
    "            counts[num] -= 1\n",
    "    return res\n",
    "intersect()"
   ]
  }
 ],
 "metadata": {
  "kernelspec": {
   "display_name": "Python 3",
   "language": "python",
   "name": "python3"
  },
  "language_info": {
   "codemirror_mode": {
    "name": "ipython",
    "version": 3
   },
   "file_extension": ".py",
   "mimetype": "text/x-python",
   "name": "python",
   "nbconvert_exporter": "python",
   "pygments_lexer": "ipython3",
   "version": "3.6.8"
  }
 },
 "nbformat": 4,
 "nbformat_minor": 2
}
